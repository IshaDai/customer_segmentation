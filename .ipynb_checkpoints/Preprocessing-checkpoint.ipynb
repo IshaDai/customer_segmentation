{
 "cells": [
  {
   "cell_type": "markdown",
   "id": "2eb80191-222c-4439-b8ce-50b0142e9ff7",
   "metadata": {
    "tags": []
   },
   "source": [
    "# Data Preprocessing"
   ]
  },
  {
   "cell_type": "code",
   "execution_count": 1,
   "id": "abdcc700-a83c-4f74-9674-f4e3ec6d7935",
   "metadata": {},
   "outputs": [],
   "source": [
    "import pandas as pd\n",
    "import numpy as np\n",
    "import matplotlib as mpl\n",
    "import matplotlib.pyplot as plt\n",
    "import seaborn as sns\n",
    "import datetime\n",
    "import math\n",
    "from sklearn.preprocessing import StandardScaler\n",
    "import warnings\n",
    "warnings.filterwarnings(\"ignore\")\n",
    "from scipy import stats"
   ]
  },
  {
   "cell_type": "markdown",
   "id": "30a61a78-c7ac-4ba8-b57f-02f45469da8c",
   "metadata": {},
   "source": [
    "## Load Dataset"
   ]
  },
  {
   "cell_type": "code",
   "execution_count": 2,
   "id": "ddddc0a9-4352-4ce1-8ff4-287256929b89",
   "metadata": {},
   "outputs": [
    {
     "name": "stdout",
     "output_type": "stream",
     "text": [
      "<class 'pandas.core.frame.DataFrame'>\n",
      "RangeIndex: 541909 entries, 0 to 541908\n",
      "Data columns (total 8 columns):\n",
      " #   Column       Non-Null Count   Dtype         \n",
      "---  ------       --------------   -----         \n",
      " 0   InvoiceNo    541909 non-null  object        \n",
      " 1   StockCode    541909 non-null  object        \n",
      " 2   Description  540455 non-null  object        \n",
      " 3   Quantity     541909 non-null  int64         \n",
      " 4   InvoiceDate  541909 non-null  datetime64[ns]\n",
      " 5   UnitPrice    541909 non-null  float64       \n",
      " 6   CustomerID   406829 non-null  object        \n",
      " 7   Country      541909 non-null  object        \n",
      "dtypes: datetime64[ns](1), float64(1), int64(1), object(5)\n",
      "memory usage: 33.1+ MB\n"
     ]
    },
    {
     "data": {
      "text/html": [
       "<div>\n",
       "<style scoped>\n",
       "    .dataframe tbody tr th:only-of-type {\n",
       "        vertical-align: middle;\n",
       "    }\n",
       "\n",
       "    .dataframe tbody tr th {\n",
       "        vertical-align: top;\n",
       "    }\n",
       "\n",
       "    .dataframe thead th {\n",
       "        text-align: right;\n",
       "    }\n",
       "</style>\n",
       "<table border=\"1\" class=\"dataframe\">\n",
       "  <thead>\n",
       "    <tr style=\"text-align: right;\">\n",
       "      <th></th>\n",
       "      <th>Quantity</th>\n",
       "      <th>UnitPrice</th>\n",
       "    </tr>\n",
       "  </thead>\n",
       "  <tbody>\n",
       "    <tr>\n",
       "      <th>count</th>\n",
       "      <td>541909.000000</td>\n",
       "      <td>541909.000000</td>\n",
       "    </tr>\n",
       "    <tr>\n",
       "      <th>mean</th>\n",
       "      <td>9.552250</td>\n",
       "      <td>4.611114</td>\n",
       "    </tr>\n",
       "    <tr>\n",
       "      <th>std</th>\n",
       "      <td>218.081158</td>\n",
       "      <td>96.759853</td>\n",
       "    </tr>\n",
       "    <tr>\n",
       "      <th>min</th>\n",
       "      <td>-80995.000000</td>\n",
       "      <td>-11062.060000</td>\n",
       "    </tr>\n",
       "    <tr>\n",
       "      <th>25%</th>\n",
       "      <td>1.000000</td>\n",
       "      <td>1.250000</td>\n",
       "    </tr>\n",
       "    <tr>\n",
       "      <th>50%</th>\n",
       "      <td>3.000000</td>\n",
       "      <td>2.080000</td>\n",
       "    </tr>\n",
       "    <tr>\n",
       "      <th>75%</th>\n",
       "      <td>10.000000</td>\n",
       "      <td>4.130000</td>\n",
       "    </tr>\n",
       "    <tr>\n",
       "      <th>max</th>\n",
       "      <td>80995.000000</td>\n",
       "      <td>38970.000000</td>\n",
       "    </tr>\n",
       "  </tbody>\n",
       "</table>\n",
       "</div>"
      ],
      "text/plain": [
       "            Quantity      UnitPrice\n",
       "count  541909.000000  541909.000000\n",
       "mean        9.552250       4.611114\n",
       "std       218.081158      96.759853\n",
       "min    -80995.000000  -11062.060000\n",
       "25%         1.000000       1.250000\n",
       "50%         3.000000       2.080000\n",
       "75%        10.000000       4.130000\n",
       "max     80995.000000   38970.000000"
      ]
     },
     "execution_count": 2,
     "metadata": {},
     "output_type": "execute_result"
    }
   ],
   "source": [
    "# Read 'Customer ID' and 'Invoice ID'as String\n",
    "df = pd.read_csv('data.csv',encoding=\"ISO-8859-1\",dtype={'CustomerID': str,'InvoiceID': str})\n",
    "# Transfer 'InvoiceDate' to date format\n",
    "df['InvoiceDate'] = pd.to_datetime(df['InvoiceDate'])\n",
    "df.info()\n",
    "df.describe()"
   ]
  },
  {
   "cell_type": "markdown",
   "id": "d1d19c29-c754-4775-be6d-986af2047e32",
   "metadata": {},
   "source": [
    "## Data Cleansing"
   ]
  },
  {
   "cell_type": "code",
   "execution_count": 3,
   "id": "ad67674f-022e-4cb8-8e90-c5092b134194",
   "metadata": {},
   "outputs": [
    {
     "name": "stdout",
     "output_type": "stream",
     "text": [
      "<class 'pandas.core.frame.DataFrame'>\n",
      "Int64Index: 397884 entries, 0 to 541908\n",
      "Data columns (total 8 columns):\n",
      " #   Column       Non-Null Count   Dtype         \n",
      "---  ------       --------------   -----         \n",
      " 0   InvoiceNo    397884 non-null  object        \n",
      " 1   StockCode    397884 non-null  object        \n",
      " 2   Description  397884 non-null  object        \n",
      " 3   Quantity     397884 non-null  int64         \n",
      " 4   InvoiceDate  397884 non-null  datetime64[ns]\n",
      " 5   UnitPrice    397884 non-null  float64       \n",
      " 6   CustomerID   397884 non-null  object        \n",
      " 7   Country      397884 non-null  object        \n",
      "dtypes: datetime64[ns](1), float64(1), int64(1), object(5)\n",
      "memory usage: 27.3+ MB\n",
      "  InvoiceNo StockCode                          Description  Quantity  \\\n",
      "0    536365    85123A   WHITE HANGING HEART T-LIGHT HOLDER         6   \n",
      "1    536365     71053                  WHITE METAL LANTERN         6   \n",
      "2    536365    84406B       CREAM CUPID HEARTS COAT HANGER         8   \n",
      "3    536365    84029G  KNITTED UNION FLAG HOT WATER BOTTLE         6   \n",
      "4    536365    84029E       RED WOOLLY HOTTIE WHITE HEART.         6   \n",
      "\n",
      "          InvoiceDate  UnitPrice CustomerID         Country  \n",
      "0 2010-12-01 08:26:00       2.55      17850  United Kingdom  \n",
      "1 2010-12-01 08:26:00       3.39      17850  United Kingdom  \n",
      "2 2010-12-01 08:26:00       2.75      17850  United Kingdom  \n",
      "3 2010-12-01 08:26:00       3.39      17850  United Kingdom  \n",
      "4 2010-12-01 08:26:00       3.39      17850  United Kingdom  \n"
     ]
    }
   ],
   "source": [
    "# Remove oberservations w/o 'CustomerID'\n",
    "# We are impossible to impute values for those customers\n",
    "df.dropna(axis = 0, subset = ['CustomerID'], inplace = True)\n",
    "\n",
    "# Remove 'Return' or 'Negative Price' (Cancelled items)\n",
    "df = df[~(df.Quantity<0)]\n",
    "df = df[df.UnitPrice>0]\n",
    "\n",
    "df.info()\n",
    "df.describe()\n",
    "print(df.head(5))\n",
    "\n",
    "# Export to Cleansed Dateframe\n",
    "# df.to_csv('data_cleansed.csv')"
   ]
  },
  {
   "cell_type": "code",
   "execution_count": 4,
   "id": "6961a93e-184b-4b77-a53e-c2fac88711bd",
   "metadata": {},
   "outputs": [],
   "source": [
    "flag = df['InvoiceDate'] < datetime.datetime(2011,11,8)\n",
    "df_train = df[flag]\n",
    "df_test = df[-flag]"
   ]
  },
  {
   "cell_type": "code",
   "execution_count": 5,
   "id": "37b86170-584e-4893-8378-0450ffbe747d",
   "metadata": {},
   "outputs": [
    {
     "data": {
      "text/html": [
       "<div>\n",
       "<style scoped>\n",
       "    .dataframe tbody tr th:only-of-type {\n",
       "        vertical-align: middle;\n",
       "    }\n",
       "\n",
       "    .dataframe tbody tr th {\n",
       "        vertical-align: top;\n",
       "    }\n",
       "\n",
       "    .dataframe thead th {\n",
       "        text-align: right;\n",
       "    }\n",
       "</style>\n",
       "<table border=\"1\" class=\"dataframe\">\n",
       "  <thead>\n",
       "    <tr style=\"text-align: right;\">\n",
       "      <th></th>\n",
       "      <th>InvoiceNo</th>\n",
       "      <th>StockCode</th>\n",
       "      <th>Description</th>\n",
       "      <th>Quantity</th>\n",
       "      <th>InvoiceDate</th>\n",
       "      <th>UnitPrice</th>\n",
       "      <th>CustomerID</th>\n",
       "      <th>Country</th>\n",
       "      <th>Amount</th>\n",
       "    </tr>\n",
       "  </thead>\n",
       "  <tbody>\n",
       "    <tr>\n",
       "      <th>0</th>\n",
       "      <td>536365</td>\n",
       "      <td>85123A</td>\n",
       "      <td>WHITE HANGING HEART T-LIGHT HOLDER</td>\n",
       "      <td>6</td>\n",
       "      <td>2010-12-01 08:26:00</td>\n",
       "      <td>2.55</td>\n",
       "      <td>17850</td>\n",
       "      <td>United Kingdom</td>\n",
       "      <td>15.30</td>\n",
       "    </tr>\n",
       "    <tr>\n",
       "      <th>1</th>\n",
       "      <td>536365</td>\n",
       "      <td>71053</td>\n",
       "      <td>WHITE METAL LANTERN</td>\n",
       "      <td>6</td>\n",
       "      <td>2010-12-01 08:26:00</td>\n",
       "      <td>3.39</td>\n",
       "      <td>17850</td>\n",
       "      <td>United Kingdom</td>\n",
       "      <td>20.34</td>\n",
       "    </tr>\n",
       "    <tr>\n",
       "      <th>2</th>\n",
       "      <td>536365</td>\n",
       "      <td>84406B</td>\n",
       "      <td>CREAM CUPID HEARTS COAT HANGER</td>\n",
       "      <td>8</td>\n",
       "      <td>2010-12-01 08:26:00</td>\n",
       "      <td>2.75</td>\n",
       "      <td>17850</td>\n",
       "      <td>United Kingdom</td>\n",
       "      <td>22.00</td>\n",
       "    </tr>\n",
       "    <tr>\n",
       "      <th>3</th>\n",
       "      <td>536365</td>\n",
       "      <td>84029G</td>\n",
       "      <td>KNITTED UNION FLAG HOT WATER BOTTLE</td>\n",
       "      <td>6</td>\n",
       "      <td>2010-12-01 08:26:00</td>\n",
       "      <td>3.39</td>\n",
       "      <td>17850</td>\n",
       "      <td>United Kingdom</td>\n",
       "      <td>20.34</td>\n",
       "    </tr>\n",
       "    <tr>\n",
       "      <th>4</th>\n",
       "      <td>536365</td>\n",
       "      <td>84029E</td>\n",
       "      <td>RED WOOLLY HOTTIE WHITE HEART.</td>\n",
       "      <td>6</td>\n",
       "      <td>2010-12-01 08:26:00</td>\n",
       "      <td>3.39</td>\n",
       "      <td>17850</td>\n",
       "      <td>United Kingdom</td>\n",
       "      <td>20.34</td>\n",
       "    </tr>\n",
       "  </tbody>\n",
       "</table>\n",
       "</div>"
      ],
      "text/plain": [
       "  InvoiceNo StockCode                          Description  Quantity  \\\n",
       "0    536365    85123A   WHITE HANGING HEART T-LIGHT HOLDER         6   \n",
       "1    536365     71053                  WHITE METAL LANTERN         6   \n",
       "2    536365    84406B       CREAM CUPID HEARTS COAT HANGER         8   \n",
       "3    536365    84029G  KNITTED UNION FLAG HOT WATER BOTTLE         6   \n",
       "4    536365    84029E       RED WOOLLY HOTTIE WHITE HEART.         6   \n",
       "\n",
       "          InvoiceDate  UnitPrice CustomerID         Country  Amount  \n",
       "0 2010-12-01 08:26:00       2.55      17850  United Kingdom   15.30  \n",
       "1 2010-12-01 08:26:00       3.39      17850  United Kingdom   20.34  \n",
       "2 2010-12-01 08:26:00       2.75      17850  United Kingdom   22.00  \n",
       "3 2010-12-01 08:26:00       3.39      17850  United Kingdom   20.34  \n",
       "4 2010-12-01 08:26:00       3.39      17850  United Kingdom   20.34  "
      ]
     },
     "execution_count": 5,
     "metadata": {},
     "output_type": "execute_result"
    }
   ],
   "source": [
    "df_train['Amount'] = df_train['UnitPrice'] * df_train['Quantity']\n",
    "df_train.head(5)"
   ]
  },
  {
   "cell_type": "code",
   "execution_count": 6,
   "id": "46d16a4e",
   "metadata": {},
   "outputs": [
    {
     "data": {
      "text/html": [
       "<div>\n",
       "<style scoped>\n",
       "    .dataframe tbody tr th:only-of-type {\n",
       "        vertical-align: middle;\n",
       "    }\n",
       "\n",
       "    .dataframe tbody tr th {\n",
       "        vertical-align: top;\n",
       "    }\n",
       "\n",
       "    .dataframe thead th {\n",
       "        text-align: right;\n",
       "    }\n",
       "</style>\n",
       "<table border=\"1\" class=\"dataframe\">\n",
       "  <thead>\n",
       "    <tr style=\"text-align: right;\">\n",
       "      <th></th>\n",
       "      <th>InvoiceNo</th>\n",
       "      <th>StockCode</th>\n",
       "      <th>Description</th>\n",
       "      <th>Quantity</th>\n",
       "      <th>InvoiceDate</th>\n",
       "      <th>UnitPrice</th>\n",
       "      <th>CustomerID</th>\n",
       "      <th>Country</th>\n",
       "      <th>Amount</th>\n",
       "    </tr>\n",
       "  </thead>\n",
       "  <tbody>\n",
       "    <tr>\n",
       "      <th>447057</th>\n",
       "      <td>574943</td>\n",
       "      <td>17012D</td>\n",
       "      <td>ORIGAMI ROSE INCENSE/CANDLE SET</td>\n",
       "      <td>24</td>\n",
       "      <td>2011-11-08 07:52:00</td>\n",
       "      <td>0.85</td>\n",
       "      <td>13026</td>\n",
       "      <td>United Kingdom</td>\n",
       "      <td>20.4</td>\n",
       "    </tr>\n",
       "    <tr>\n",
       "      <th>447058</th>\n",
       "      <td>574943</td>\n",
       "      <td>17012F</td>\n",
       "      <td>ORIGAMI SANDLEWOOD INCENSE/CAND SET</td>\n",
       "      <td>24</td>\n",
       "      <td>2011-11-08 07:52:00</td>\n",
       "      <td>0.85</td>\n",
       "      <td>13026</td>\n",
       "      <td>United Kingdom</td>\n",
       "      <td>20.4</td>\n",
       "    </tr>\n",
       "    <tr>\n",
       "      <th>447059</th>\n",
       "      <td>574943</td>\n",
       "      <td>21636</td>\n",
       "      <td>MADRAS NOTEBOOK MEDIUM</td>\n",
       "      <td>12</td>\n",
       "      <td>2011-11-08 07:52:00</td>\n",
       "      <td>0.75</td>\n",
       "      <td>13026</td>\n",
       "      <td>United Kingdom</td>\n",
       "      <td>9.0</td>\n",
       "    </tr>\n",
       "    <tr>\n",
       "      <th>447060</th>\n",
       "      <td>574943</td>\n",
       "      <td>21991</td>\n",
       "      <td>BOHEMIAN COLLAGE STATIONERY SET</td>\n",
       "      <td>12</td>\n",
       "      <td>2011-11-08 07:52:00</td>\n",
       "      <td>1.25</td>\n",
       "      <td>13026</td>\n",
       "      <td>United Kingdom</td>\n",
       "      <td>15.0</td>\n",
       "    </tr>\n",
       "    <tr>\n",
       "      <th>447061</th>\n",
       "      <td>574943</td>\n",
       "      <td>35651</td>\n",
       "      <td>VINTAGE BEAD PINK SCARF</td>\n",
       "      <td>24</td>\n",
       "      <td>2011-11-08 07:52:00</td>\n",
       "      <td>1.65</td>\n",
       "      <td>13026</td>\n",
       "      <td>United Kingdom</td>\n",
       "      <td>39.6</td>\n",
       "    </tr>\n",
       "  </tbody>\n",
       "</table>\n",
       "</div>"
      ],
      "text/plain": [
       "       InvoiceNo StockCode                          Description  Quantity  \\\n",
       "447057    574943    17012D     ORIGAMI ROSE INCENSE/CANDLE SET         24   \n",
       "447058    574943    17012F  ORIGAMI SANDLEWOOD INCENSE/CAND SET        24   \n",
       "447059    574943     21636               MADRAS NOTEBOOK MEDIUM        12   \n",
       "447060    574943     21991      BOHEMIAN COLLAGE STATIONERY SET        12   \n",
       "447061    574943     35651             VINTAGE BEAD PINK SCARF         24   \n",
       "\n",
       "               InvoiceDate  UnitPrice CustomerID         Country  Amount  \n",
       "447057 2011-11-08 07:52:00       0.85      13026  United Kingdom    20.4  \n",
       "447058 2011-11-08 07:52:00       0.85      13026  United Kingdom    20.4  \n",
       "447059 2011-11-08 07:52:00       0.75      13026  United Kingdom     9.0  \n",
       "447060 2011-11-08 07:52:00       1.25      13026  United Kingdom    15.0  \n",
       "447061 2011-11-08 07:52:00       1.65      13026  United Kingdom    39.6  "
      ]
     },
     "execution_count": 6,
     "metadata": {},
     "output_type": "execute_result"
    }
   ],
   "source": [
    "df_test['Amount'] = df_test['UnitPrice'] * df_test['Quantity']\n",
    "df_test.head(5)"
   ]
  },
  {
   "cell_type": "markdown",
   "id": "54ccc681-c326-4e44-bcd0-2924e645316f",
   "metadata": {},
   "source": [
    "## Data Exploration"
   ]
  },
  {
   "cell_type": "markdown",
   "id": "d39ac633-ef02-4c19-8472-1eb457a89581",
   "metadata": {},
   "source": [
    "### Countries Distribution"
   ]
  },
  {
   "cell_type": "code",
   "execution_count": 7,
   "id": "6904398a-fdb6-4fe7-9875-f7b434565848",
   "metadata": {},
   "outputs": [
    {
     "data": {
      "image/png": "[encoded data removed]",
      "text/plain": [
       "<Figure size 432x288 with 1 Axes>"
      ]
     },
     "metadata": {
      "needs_background": "light"
     },
     "output_type": "display_data"
    }
   ],
   "source": [
    "g = df_train.groupby(by=[\"Country\"]).Amount.sum().sort_values(ascending = False).head(10).\\\n",
    "plot(kind='bar', title='Amount Sales by Country')"
   ]
  },
  {
   "cell_type": "markdown",
   "id": "092d28ff-c158-4398-b711-1574a9e3eb63",
   "metadata": {},
   "source": [
    "### Customer and Products"
   ]
  },
  {
   "cell_type": "code",
   "execution_count": 8,
   "id": "58cf2f28-ab2c-4e45-b38c-20f085bd2366",
   "metadata": {},
   "outputs": [
    {
     "data": {
      "text/html": [
       "<div>\n",
       "<style scoped>\n",
       "    .dataframe tbody tr th:only-of-type {\n",
       "        vertical-align: middle;\n",
       "    }\n",
       "\n",
       "    .dataframe tbody tr th {\n",
       "        vertical-align: top;\n",
       "    }\n",
       "\n",
       "    .dataframe thead th {\n",
       "        text-align: right;\n",
       "    }\n",
       "</style>\n",
       "<table border=\"1\" class=\"dataframe\">\n",
       "  <thead>\n",
       "    <tr style=\"text-align: right;\">\n",
       "      <th></th>\n",
       "      <th>Transactions</th>\n",
       "      <th>Products</th>\n",
       "      <th>Customers</th>\n",
       "    </tr>\n",
       "  </thead>\n",
       "  <tbody>\n",
       "    <tr>\n",
       "      <th>Quantity</th>\n",
       "      <td>15634</td>\n",
       "      <td>3623</td>\n",
       "      <td>4055</td>\n",
       "    </tr>\n",
       "  </tbody>\n",
       "</table>\n",
       "</div>"
      ],
      "text/plain": [
       "          Transactions  Products  Customers\n",
       "Quantity         15634      3623       4055"
      ]
     },
     "execution_count": 8,
     "metadata": {},
     "output_type": "execute_result"
    }
   ],
   "source": [
    "# Count of total transactions, products, and customers\n",
    "summary = pd.DataFrame([{'Products': len(df_train['StockCode'].value_counts()),    \n",
    "               'Transactions': len(df_train['InvoiceNo'].value_counts()),\n",
    "               'Customers': len(df_train['CustomerID'].value_counts()),  \n",
    "              }], columns = ['Transactions','Products', 'Customers'], index = ['Quantity'])\n",
    "summary"
   ]
  },
  {
   "cell_type": "code",
   "execution_count": 9,
   "id": "ff549c16-108d-47ce-a915-6afbb6e031be",
   "metadata": {},
   "outputs": [
    {
     "name": "stdout",
     "output_type": "stream",
     "text": [
      "  CustomerID InvoiceNo  Number of Products\n",
      "0      12346    541431                   1\n",
      "1      12347    537626                  31\n",
      "2      12347    542237                  29\n",
      "3      12347    549222                  24\n",
      "4      12347    556201                  18\n",
      "5      12347    562032                  22\n",
      "6      12347    573511                  47\n",
      "7      12348    539318                  17\n",
      "8      12348    541998                   6\n",
      "9      12348    548955                   5\n"
     ]
    },
    {
     "data": {
      "text/html": [
       "<div>\n",
       "<style scoped>\n",
       "    .dataframe tbody tr th:only-of-type {\n",
       "        vertical-align: middle;\n",
       "    }\n",
       "\n",
       "    .dataframe tbody tr th {\n",
       "        vertical-align: top;\n",
       "    }\n",
       "\n",
       "    .dataframe thead th {\n",
       "        text-align: right;\n",
       "    }\n",
       "</style>\n",
       "<table border=\"1\" class=\"dataframe\">\n",
       "  <thead>\n",
       "    <tr style=\"text-align: right;\">\n",
       "      <th></th>\n",
       "      <th>count</th>\n",
       "      <th>mean</th>\n",
       "      <th>std</th>\n",
       "      <th>min</th>\n",
       "      <th>25%</th>\n",
       "      <th>50%</th>\n",
       "      <th>75%</th>\n",
       "      <th>max</th>\n",
       "    </tr>\n",
       "  </thead>\n",
       "  <tbody>\n",
       "    <tr>\n",
       "      <th>Number of Products</th>\n",
       "      <td>15634.0</td>\n",
       "      <td>21.051618</td>\n",
       "      <td>23.33757</td>\n",
       "      <td>1.0</td>\n",
       "      <td>6.0</td>\n",
       "      <td>15.0</td>\n",
       "      <td>27.0</td>\n",
       "      <td>435.0</td>\n",
       "    </tr>\n",
       "  </tbody>\n",
       "</table>\n",
       "</div>"
      ],
      "text/plain": [
       "                      count       mean       std  min  25%   50%   75%    max\n",
       "Number of Products  15634.0  21.051618  23.33757  1.0  6.0  15.0  27.0  435.0"
      ]
     },
     "execution_count": 9,
     "metadata": {},
     "output_type": "execute_result"
    }
   ],
   "source": [
    "# Num of products purchased in every transaction\n",
    "frame = df_train.groupby(by=['CustomerID', 'InvoiceNo'], as_index=False)['InvoiceDate'].count()\n",
    "nb_products_per_basket = frame.rename(columns = {'InvoiceDate':'Number of Products'})\n",
    "print(nb_products_per_basket.head(10))\n",
    "nb_products_per_basket.describe().T"
   ]
  },
  {
   "cell_type": "raw",
   "id": "aba4f3ba-fbce-403f-99f8-d46a25bfba33",
   "metadata": {},
   "source": [
    "On average, a customer purchase 21 products per transaction. In perticular, some customers purchse a few products each time while some purchase a lot."
   ]
  },
  {
   "cell_type": "markdown",
   "id": "3cad4d4d-9bcf-48c6-b3c3-39393dcabedb",
   "metadata": {},
   "source": [
    "### Basket Price"
   ]
  },
  {
   "cell_type": "code",
   "execution_count": 10,
   "id": "cc5548d8-b430-4bb6-82ac-177bf6fd2da1",
   "metadata": {},
   "outputs": [
    {
     "name": "stdout",
     "output_type": "stream",
     "text": [
      "  CustomerID InvoiceNo  Basket Price                   InvoiceDate\n",
      "0      12346    541431      77183.60 2011-01-18 10:01:00.000000000\n",
      "1      12347    537626        711.79 2010-12-07 14:57:00.000000000\n",
      "2      12347    542237        475.39 2011-01-26 14:29:59.999999744\n",
      "3      12347    549222        636.25 2011-04-07 10:43:00.000000000\n",
      "4      12347    556201        382.52 2011-06-09 13:01:00.000000000\n"
     ]
    },
    {
     "data": {
      "text/html": [
       "<div>\n",
       "<style scoped>\n",
       "    .dataframe tbody tr th:only-of-type {\n",
       "        vertical-align: middle;\n",
       "    }\n",
       "\n",
       "    .dataframe tbody tr th {\n",
       "        vertical-align: top;\n",
       "    }\n",
       "\n",
       "    .dataframe thead th {\n",
       "        text-align: right;\n",
       "    }\n",
       "</style>\n",
       "<table border=\"1\" class=\"dataframe\">\n",
       "  <thead>\n",
       "    <tr style=\"text-align: right;\">\n",
       "      <th></th>\n",
       "      <th>count</th>\n",
       "      <th>mean</th>\n",
       "      <th>std</th>\n",
       "      <th>min</th>\n",
       "      <th>25%</th>\n",
       "      <th>50%</th>\n",
       "      <th>75%</th>\n",
       "      <th>max</th>\n",
       "    </tr>\n",
       "  </thead>\n",
       "  <tbody>\n",
       "    <tr>\n",
       "      <th>Basket Price</th>\n",
       "      <td>15634.0</td>\n",
       "      <td>478.940589</td>\n",
       "      <td>1198.461236</td>\n",
       "      <td>0.38</td>\n",
       "      <td>157.72</td>\n",
       "      <td>303.77</td>\n",
       "      <td>477.5375</td>\n",
       "      <td>77183.6</td>\n",
       "    </tr>\n",
       "  </tbody>\n",
       "</table>\n",
       "</div>"
      ],
      "text/plain": [
       "                count        mean          std   min     25%     50%  \\\n",
       "Basket Price  15634.0  478.940589  1198.461236  0.38  157.72  303.77   \n",
       "\n",
       "                   75%      max  \n",
       "Basket Price  477.5375  77183.6  "
      ]
     },
     "execution_count": 10,
     "metadata": {},
     "output_type": "execute_result"
    }
   ],
   "source": [
    "# Calculate basket price\n",
    "frame = df_train.groupby(by=['CustomerID', 'InvoiceNo'], as_index=False)['Amount'].sum()\n",
    "basket_price = frame.rename(columns = {'Amount':'Basket Price'})\n",
    "\n",
    "# Add date of the order\n",
    "df_train['InvoiceDate_int'] = df_train['InvoiceDate'].astype('int64')\n",
    "frame = df_train.groupby(by=['CustomerID', 'InvoiceNo'], as_index=False)['InvoiceDate_int'].mean()\n",
    "df_train.drop('InvoiceDate_int', axis = 1, inplace = True)\n",
    "basket_price.loc[:, 'InvoiceDate'] = pd.to_datetime(frame['InvoiceDate_int'])\n",
    "\n",
    "print(basket_price.head(5))\n",
    "basket_price.describe().T"
   ]
  },
  {
   "cell_type": "code",
   "execution_count": 11,
   "id": "6ecbe28d-3a4b-4190-bd46-87bf94ede697",
   "metadata": {},
   "outputs": [
    {
     "data": {
      "image/png": "[encoded data removed]",
      "text/plain": [
       "<Figure size 792x432 with 1 Axes>"
      ]
     },
     "metadata": {},
     "output_type": "display_data"
    }
   ],
   "source": [
    "# Visualize basket prices based on percentile\n",
    "price_range = [0, 100, 300, 500, 1000,80000]\n",
    "count_price = []\n",
    "for i, price in enumerate(price_range):\n",
    "    if i == 0: continue\n",
    "    val = basket_price[(basket_price['Basket Price'] < price) &\n",
    "                       (basket_price['Basket Price'] > price_range[i-1])]['Basket Price'].count()\n",
    "    count_price.append(val)\n",
    "\n",
    "plt.rc('font', weight='bold')\n",
    "f, ax = plt.subplots(figsize=(11, 6))\n",
    "colors = ['#6BBFD3', '#5DA9C7', '#4E90BA', '#3E77AC', '#3161A1', '#224B95']\n",
    "labels = [ '{}~{}'.format(price_range[i-1], s) for i,s in enumerate(price_range) if i != 0]\n",
    "sizes  = count_price\n",
    "explode = [0.0 if sizes[i] < 100 else 0.0 for i in range(len(sizes))]\n",
    "ax.pie(sizes, explode = explode, labels=labels, colors = colors,\n",
    "       autopct = lambda x:'{:1.0f}%'.format(x) if x > 1 else '',\n",
    "       shadow = False, startangle=0)\n",
    "ax.axis('equal')\n",
    "f.text(0.5, 1.01, \"Breakdown of Basket Prices\", ha='center', fontsize = 18);"
   ]
  },
  {
   "cell_type": "markdown",
   "id": "f64f025f-09f7-4020-bd38-7c034db06ead",
   "metadata": {},
   "source": [
    "### Stock Code"
   ]
  },
  {
   "cell_type": "code",
   "execution_count": 12,
   "id": "8ec59c64-0f71-44ef-a687-19f836f403f4",
   "metadata": {},
   "outputs": [
    {
     "data": {
      "text/plain": [
       "array(['POST', 'C2', 'M', 'BANK CHARGES', 'PADS', 'DOT'], dtype=object)"
      ]
     },
     "execution_count": 12,
     "metadata": {},
     "output_type": "execute_result"
    }
   ],
   "source": [
    "# Check the different type of stock codes\n",
    "list_special_codes = df_train[df_train['StockCode'].str.contains('^[a-zA-Z]+', regex=True)]['StockCode'].unique()\n",
    "list_special_codes"
   ]
  },
  {
   "cell_type": "code",
   "execution_count": 13,
   "id": "353840a4-fb65-45dc-82ac-9eca29fa7ea6",
   "metadata": {},
   "outputs": [
    {
     "name": "stdout",
     "output_type": "stream",
     "text": [
      "POST            -> POSTAGE                       \n",
      "C2              -> CARRIAGE                      \n",
      "M               -> Manual                        \n",
      "BANK CHARGES    -> Bank Charges                  \n",
      "PADS            -> PADS TO MATCH ALL CUSHIONS    \n",
      "DOT             -> DOTCOM POSTAGE                \n"
     ]
    }
   ],
   "source": [
    "# Check descriptions of different stock codes\n",
    "for code in list_special_codes:\n",
    "    print(\"{:<15} -> {:<30}\".format(code, df_train[df_train['StockCode'] == code]['Description'].unique()[0]))"
   ]
  },
  {
   "cell_type": "raw",
   "id": "bf302158-35b2-48e9-b726-373c54ac1e80",
   "metadata": {},
   "source": [
    "We observe that the stock codes refer to some peculiar types of transactions."
   ]
  },
  {
   "cell_type": "markdown",
   "id": "c25392e9-6f80-4136-b584-a590f53a122f",
   "metadata": {},
   "source": [
    "# Feature Engineering"
   ]
  },
  {
   "cell_type": "markdown",
   "id": "aa93457b-f45d-4e77-80d2-e69fba7469e4",
   "metadata": {},
   "source": [
    "## RFM Model"
   ]
  },
  {
   "cell_type": "code",
   "execution_count": 14,
   "id": "58dd064b-cfac-4c11-861a-4f8715db4895",
   "metadata": {},
   "outputs": [
    {
     "name": "stdout",
     "output_type": "stream",
     "text": [
      "Reference Date for Training Set: 2011-11-08 17:50:00\n"
     ]
    },
    {
     "data": {
      "image/png": "[encoded data removed]",
      "text/plain": [
       "<Figure size 432x288 with 1 Axes>"
      ]
     },
     "metadata": {
      "needs_background": "light"
     },
     "output_type": "display_data"
    },
    {
     "data": {
      "image/png": "[encoded data removed]",
      "text/plain": [
       "<Figure size 432x288 with 1 Axes>"
      ]
     },
     "metadata": {
      "needs_background": "light"
     },
     "output_type": "display_data"
    }
   ],
   "source": [
    "# Recency for Training Set\n",
    "refrence_date_train = df_train.InvoiceDate.max() + datetime.timedelta(days = 1)\n",
    "print('Reference Date for Training Set:', refrence_date_train)\n",
    "df_train['days_since_last_purchase'] = (refrence_date_train - df_train.InvoiceDate).astype('timedelta64[D]')\n",
    "df_cus_rfm_train =  df_train[['CustomerID', 'days_since_last_purchase']].groupby(\"CustomerID\").min().reset_index()\n",
    "df_cus_rfm_train.rename(columns={'days_since_last_purchase':'recency'}, inplace=True)\n",
    "# print(df_cus_rfm_train.head(5))\n",
    "\n",
    "fig = plt.figure()\n",
    "sns.histplot(data=df_cus_rfm_train.recency, kde=True)\n",
    "fig.suptitle('Histogram with KDE - Recency', fontweight='bold')\n",
    "plt.show()\n",
    "\n",
    "fig = plt.figure()\n",
    "res = stats.probplot(df_cus_rfm_train.recency, plot=plt)\n",
    "fig.suptitle('QQ Plot - Recency', fontweight='bold')\n",
    "plt.show()"
   ]
  },
  {
   "cell_type": "code",
   "execution_count": 15,
   "id": "b9449ad8-a8ce-45fc-9e9b-6c237eac72a4",
   "metadata": {},
   "outputs": [
    {
     "name": "stdout",
     "output_type": "stream",
     "text": [
      "Reference Date for Testing Set: 2011-12-10 12:50:00\n"
     ]
    }
   ],
   "source": [
    "# Recency for Testing Set\n",
    "refrence_date_test = df_test.InvoiceDate.max() + datetime.timedelta(days = 1)\n",
    "print('Reference Date for Testing Set:', refrence_date_test)\n",
    "df_test['days_since_last_purchase'] = (refrence_date_test - df_test['InvoiceDate'])/np.timedelta64(1, 'D')\n",
    "df_cus_rfm_test =  df_test[['CustomerID', 'days_since_last_purchase']].groupby(\"CustomerID\").min().reset_index()\n",
    "df_cus_rfm_test.rename(columns={'days_since_last_purchase':'recency'}, inplace=True)\n",
    "# print(df_cus_rfm_test.tail(5))"
   ]
  },
  {
   "cell_type": "code",
   "execution_count": 16,
   "id": "38b0fc4d-5774-4a06-83f5-a51df7692129",
   "metadata": {},
   "outputs": [
    {
     "data": {
      "image/png": "[encoded data removed]",
      "text/plain": [
       "<Figure size 432x288 with 1 Axes>"
      ]
     },
     "metadata": {
      "needs_background": "light"
     },
     "output_type": "display_data"
    },
    {
     "data": {
      "image/png": "[encoded data removed]",
      "text/plain": [
       "<Figure size 432x288 with 1 Axes>"
      ]
     },
     "metadata": {
      "needs_background": "light"
     },
     "output_type": "display_data"
    }
   ],
   "source": [
    "# Frequency for Training Set\n",
    "customer_freq_train = (df_train[['CustomerID', 'InvoiceNo']].groupby([\"CustomerID\", 'InvoiceNo']).count().reset_index()).\\\n",
    "                groupby([\"CustomerID\"]).count().reset_index()\n",
    "customer_freq_train.rename(columns={'InvoiceNo':'frequency'},inplace=True)\n",
    "df_cus_rfm_train = df_cus_rfm_train.merge(customer_freq_train)\n",
    "# print(df_cus_rfm_train.head(5))\n",
    "\n",
    "fig = plt.figure()\n",
    "sns.histplot(data=df_cus_rfm_train.frequency, kde=True)\n",
    "fig.suptitle('Histogram with KDE - Frequency', fontweight='bold')\n",
    "plt.show()\n",
    "\n",
    "fig = plt.figure()\n",
    "res = stats.probplot(df_cus_rfm_train.frequency, plot=plt)\n",
    "fig.suptitle('QQ Plot - Frequency', fontweight='bold')\n",
    "plt.show()"
   ]
  },
  {
   "cell_type": "code",
   "execution_count": 17,
   "id": "d77c1759-71ce-41da-aae6-e9c4c0e4ba21",
   "metadata": {},
   "outputs": [],
   "source": [
    "# Frequency for Testing Set\n",
    "customer_freq_test = (df_test[['CustomerID', 'InvoiceNo']].groupby([\"CustomerID\", 'InvoiceNo']).count().reset_index()).\\\n",
    "                groupby([\"CustomerID\"]).count().reset_index()\n",
    "customer_freq_test.rename(columns={'InvoiceNo':'frequency'},inplace=True)\n",
    "df_cus_rfm_test = df_cus_rfm_test.merge(customer_freq_test)"
   ]
  },
  {
   "cell_type": "code",
   "execution_count": 18,
   "id": "6a241eed-2788-41dd-9453-a7cbda0e9d5c",
   "metadata": {},
   "outputs": [
    {
     "name": "stdout",
     "output_type": "stream",
     "text": [
      "           recency    frequency  monetaryValue\n",
      "count  4055.000000  4055.000000    4055.000000\n",
      "mean     93.915906     3.855487    1846.549241\n",
      "std      94.930146     6.724902    8004.381037\n",
      "min       1.000000     1.000000       2.900000\n",
      "25%      20.000000     1.000000     294.260000\n",
      "50%      50.000000     2.000000     635.660000\n",
      "75%     152.000000     4.000000    1540.855000\n",
      "max     342.000000   163.000000  247885.680000\n"
     ]
    },
    {
     "data": {
      "image/png": "[encoded data removed]",
      "text/plain": [
       "<Figure size 432x288 with 1 Axes>"
      ]
     },
     "metadata": {
      "needs_background": "light"
     },
     "output_type": "display_data"
    },
    {
     "data": {
      "image/png": "[encoded data removed]",
      "text/plain": [
       "<Figure size 432x288 with 1 Axes>"
      ]
     },
     "metadata": {
      "needs_background": "light"
     },
     "output_type": "display_data"
    }
   ],
   "source": [
    "# Monetary Value for Training Set\n",
    "customer_monetary_val_train = df_train[['CustomerID', 'Amount']].groupby(\"CustomerID\").sum().reset_index()\n",
    "customer_monetary_val_train.rename(columns={'Amount':'monetaryValue'},inplace=True)\n",
    "df_cus_rfm_train = df_cus_rfm_train.merge(customer_monetary_val_train)\n",
    "print(df_cus_rfm_train.describe())\n",
    "\n",
    "fig = plt.figure()\n",
    "sns.histplot(data=df_cus_rfm_train.monetaryValue, kde=True)\n",
    "fig.suptitle('Histogram with KDE - Monetary Value', fontweight='bold')\n",
    "plt.show()\n",
    "\n",
    "fig = plt.figure()\n",
    "res = stats.probplot(df_cus_rfm_train.monetaryValue, plot=plt)\n",
    "fig.suptitle('QQ Plot - Monetary Value', fontweight='bold')\n",
    "plt.show()"
   ]
  },
  {
   "cell_type": "code",
   "execution_count": 19,
   "id": "b6c72052-4f75-4472-b11b-a85132585014",
   "metadata": {},
   "outputs": [],
   "source": [
    "# Monetary Value for Testing Set\n",
    "customer_monetary_val_test = df_test[['CustomerID', 'Amount']].groupby(\"CustomerID\").sum().reset_index()\n",
    "customer_monetary_val_test.rename(columns={'Amount':'monetaryValue'},inplace=True)\n",
    "df_cus_rfm_test = df_cus_rfm_test.merge(customer_monetary_val_train)"
   ]
  },
  {
   "cell_type": "code",
   "execution_count": 20,
   "id": "80d97c23-678e-41e9-87e5-e8f219471b0b",
   "metadata": {},
   "outputs": [],
   "source": [
    "# Log-transfrmation for Training\n",
    "# R,F,M are highly skewed, so we log-transfrom the data to deal with outliers\n",
    "df_cus_rfm_train['recency_log'] = df_cus_rfm_train['recency'].apply(math.log)\n",
    "df_cus_rfm_train['frequency_log'] = df_cus_rfm_train['frequency'].apply(math.log)\n",
    "df_cus_rfm_train['monetaryValue_log'] = df_cus_rfm_train['monetaryValue'].apply(math.log)"
   ]
  },
  {
   "cell_type": "code",
   "execution_count": 21,
   "id": "593e42e3-5bb5-4bbc-bf46-8b258d99395a",
   "metadata": {},
   "outputs": [],
   "source": [
    "# Log-transfrmation for Testing\n",
    "df_cus_rfm_test['recency_log'] = df_cus_rfm_test['recency'].apply(math.log)\n",
    "df_cus_rfm_test['frequency_log'] = df_cus_rfm_test['frequency'].apply(math.log)\n",
    "df_cus_rfm_test['monetaryValue_log'] = df_cus_rfm_test['monetaryValue'].apply(math.log)"
   ]
  },
  {
   "cell_type": "code",
   "execution_count": 26,
   "id": "2329276c-8aec-4084-95af-0414021c0d53",
   "metadata": {},
   "outputs": [],
   "source": [
    "# Export customer RFM features\n",
    "df_cus_rfm_train.to_csv('data_RFM_train.csv')\n",
    "df_cus_rfm_test.to_csv('data_RFM_test.csv')"
   ]
  },
  {
   "cell_type": "code",
   "execution_count": 23,
   "id": "0146fd5d-8f70-4616-9462-0b9a0c6e93ca",
   "metadata": {},
   "outputs": [],
   "source": [
    "# # Standarization (zero mean & unit sd)\n",
    "# df_cus_rfm_train_norm = df_cus_rfm_train.copy()\n",
    "# df_cus_rfm_test_norm = df_cus_rfm_test.copy()\n",
    "\n",
    "# mean_recency_log = df_cus_rfm_train['recency_log'].mean()\n",
    "# sd_recency_log = df_cus_rfm_train['recency_log'].std()\n",
    "\n",
    "# mean_freq_log = df_cus_rfm_train['frequency_log'].mean()\n",
    "# sd_freq_log = df_cus_rfm_train['frequency_log'].std()\n",
    "\n",
    "# mean_mv_log = df_cus_rfm_train['monetaryValue_log'].mean()\n",
    "# sd_mv_log = df_cus_rfm_train['monetaryValue_log'].std()\n",
    "\n",
    "# # Standarize Training Set with column mean and std\n",
    "# df_cus_rfm_train_norm['recency_log_norm'] = (df_cus_rfm_train['recency_log'] - mean_recency_log) / sd_recency_log\n",
    "# df_cus_rfm_train_norm['frequency_log_norm'] = (df_cus_rfm_train_norm['frequency_log'] - mean_freq_log) / sd_freq_log\n",
    "# df_cus_rfm_train_norm['monetaryValue_log_norm'] = (df_cus_rfm_train_norm['monetaryValue_log'] - mean_mv_log) / sd_mv_log\n",
    "# df_cus_rfm_train_norm.describe()"
   ]
  },
  {
   "cell_type": "code",
   "execution_count": 24,
   "id": "19ce614a-f66d-40fe-9ed0-349b14018d0b",
   "metadata": {},
   "outputs": [],
   "source": [
    "# # Standarize Testing Set with Training Set's colunn mean and std\n",
    "# df_cus_rfm_test_norm['recency_log_norm'] = (df_cus_rfm_test['recency_log'] - mean_recency_log) / sd_recency_log\n",
    "# df_cus_rfm_test_norm['frequency_log_norm'] = (df_cus_rfm_test['frequency_log'] - mean_freq_log) / sd_freq_log\n",
    "# df_cus_rfm_test_norm['monetaryValue_log_norm'] = (df_cus_rfm_test['monetaryValue_log'] - mean_mv_log) / sd_mv_log\n",
    "# df_cus_rfm_test_norm.describe()"
   ]
  },
  {
   "cell_type": "code",
   "execution_count": 25,
   "id": "ba7fe289-78fc-4beb-bc41-22b835997b37",
   "metadata": {},
   "outputs": [],
   "source": [
    "# Export normed customer RFM features\n",
    "# df_cus_rfm_train_norm.to_csv('data_RFM_train_norm.csv')\n",
    "# df_cus_rfm_test_norm.to_csv('data_RFM_test_norm.csv')"
   ]
  },
  {
   "cell_type": "code",
   "execution_count": null,
   "id": "5a2b2e5a-bfd4-443c-a68a-6396cd520dc7",
   "metadata": {},
   "outputs": [],
   "source": []
  }
 ],
 "metadata": {
  "kernelspec": {
   "display_name": "Python 3 (ipykernel)",
   "language": "python",
   "name": "python3"
  },
  "language_info": {
   "codemirror_mode": {
    "name": "ipython",
    "version": 3
   },
   "file_extension": ".py",
   "mimetype": "text/x-python",
   "name": "python",
   "nbconvert_exporter": "python",
   "pygments_lexer": "ipython3",
   "version": "3.9.12"
  },
  "toc-autonumbering": false,
  "toc-showcode": false,
  "toc-showmarkdowntxt": true,
  "toc-showtags": false
 },
 "nbformat": 4,
 "nbformat_minor": 5
}
