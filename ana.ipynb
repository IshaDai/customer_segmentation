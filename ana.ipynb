{
 "cells": [
  {
   "cell_type": "code",
   "execution_count": null,
   "id": "c3315e72-237b-496d-a79f-a8182f58e10f",
   "metadata": {
    "tags": []
   },
   "outputs": [],
   "source": [
    "!pip install import_ipynb\n",
    "import import_ipynb"
   ]
  },
  {
   "cell_type": "code",
   "execution_count": null,
   "id": "c1d366f7-4ba5-4193-83d5-41513b89eab1",
   "metadata": {},
   "outputs": [],
   "source": [
    "import numpy as np\n",
    "import pandas as pd \n",
    "import matplotlib.pyplot as plt\n",
    "import seaborn as sns\n",
    "import matplotlib.dates as mdates\n",
    "import matplotlib.pyplot as plt\n",
    "import statsmodels.api as sm\n",
    "import matplotlib.ticker as ticker\n",
    "import model\n",
    "import lightgbm as lgb\n",
    "\n",
    "import warnings\n",
    "warnings.filterwarnings(\"ignore\")\n",
    "%matplotlib inline\n",
    "\n",
    "from datetime import datetime\n",
    "from statsmodels.tsa.seasonal import STL\n",
    "from scipy import signal\n",
    "from statsmodels.tsa.seasonal import seasonal_decompose\n",
    "from scipy import fftpack\n",
    "from sklearn.cluster import KMeans\n",
    "from sklearn.metrics import confusion_matrix\n",
    "from sklearn import model_selection, metrics\n",
    "from sklearn.model_selection import GridSearchCV, learning_curve, train_test_split\n",
    "from sklearn import neighbors, linear_model, svm, tree, ensemble\n",
    "from sklearn.ensemble import AdaBoostRegressor, RandomForestRegressor\n",
    "from xgboost import XGBRegressor\n",
    "from collections import Counter\n",
    "from datetime import datetime\n",
    "from sklearn.preprocessing import MinMaxScaler"
   ]
  },
  {
   "cell_type": "code",
   "execution_count": null,
   "id": "90033889-d392-4c79-be7e-8ba57cc993dc",
   "metadata": {},
   "outputs": [],
   "source": [
    "# display the result as a dataframe\n",
    "def result_show(res_df):\n",
    "    df_lst = []\n",
    "    for i in range(len(res_df)):\n",
    "        flat_list = [item for sublist in res_df[i] for item in sublist]\n",
    "        data = [list(t) for t in flat_list]\n",
    "        res = pd.DataFrame(data, columns=['train', 'test'], index=['lgb', 'xgb', 'rf', 'knn'])\n",
    "        df_lst.append(res)\n",
    "        \n",
    "    result_df = pd.concat([d.T for d in df_lst])\n",
    "    return result_df"
   ]
  },
  {
   "cell_type": "code",
   "execution_count": null,
   "id": "deb2eec4-3b21-46f5-94a3-aaae3da7f485",
   "metadata": {},
   "outputs": [],
   "source": [
    "# model fit  \n",
    "def fit_model(x_train, y_train, x_test, y_test, k=5):\n",
    "    lightgbm = model.Model_Fit(clf = lgb.LGBMRegressor(random_state=42))\n",
    "    xgb = model.Model_Fit(clf = XGBRegressor(objective=\"reg:squarederror\", random_state=42))\n",
    "    rf = model.Model_Fit(clf = ensemble.RandomForestRegressor(random_state=42))\n",
    "    knn = model.Model_Fit(clf = neighbors.KNeighborsRegressor())\n",
    "\n",
    "    lgb_matrix = []\n",
    "    xgb_matrix = []\n",
    "    rf_matrix = [] \n",
    "    knn_matrix = []\n",
    "\n",
    "    lgb_matrix.append(model.lgb_model(x_train, y_train, x_test, y_test, lightgbm, k))\n",
    "    xgb_matrix.append(model.xgb_model(x_train, y_train, x_test, y_test, xgb, k))\n",
    "    rf_matrix.append(model.rf_model(x_train, y_train, x_test, y_test, rf, k))\n",
    "    knn_matrix.append(model.knn_model(x_train, y_train, x_test, y_test, knn, k))\n",
    "\n",
    "    return lgb_matrix, xgb_matrix, rf_matrix, knn_matrix"
   ]
  },
  {
   "cell_type": "code",
   "execution_count": null,
   "id": "acc51a31-5f7a-4e9a-8ebc-84c68e604e19",
   "metadata": {},
   "outputs": [],
   "source": [
    "def bitcoin_models(cols, df, data_option):\n",
    "    x_features = list(set(cols) - set(['price_usd_num', 'ethereum_price_usd_num']))\n",
    "    result_lst = []\n",
    "    \n",
    "    y = df['price_usd_num']\n",
    "    X = df[x_features]\n",
    "    \n",
    "    if data_option == 'lookback':\n",
    "        Xs = []\n",
    "        Ys = []\n",
    "        look_back = 10\n",
    "        features_count = len(X.columns)\n",
    "        for j in range(look_back, len(X)):\n",
    "            Xs.append(X.iloc[j - look_back: j].values)\n",
    "            Ys.append(y.iloc[j])\n",
    "\n",
    "        Xs, Ys = np.array(Xs), np.array(Ys)\n",
    "        x_train = Xs[:int(Xs.shape[0] * 0.8)]\n",
    "        y_train = Ys[:int(Ys.shape[0] * 0.8)]\n",
    "        x_test = Xs[int(Xs.shape[0] * 0.8):]\n",
    "        y_test = Ys[int(Ys.shape[0] * 0.8):]\n",
    "\n",
    "        x_train = np.reshape(x_train, (x_train.shape[0], -1))\n",
    "        x_test = np.reshape(x_test, (x_test.shape[0], -1))\n",
    "                \n",
    "        scaler = MinMaxScaler()\n",
    "        scaled_train_data = scaler.fit_transform(x_train)\n",
    "        scaled_test_data = scaler.transform(x_test)\n",
    "\n",
    "        scaled_train_data_model = np.reshape(scaled_train_data, (-1, look_back, features_count))\n",
    "        scaled_test_data_model = np.reshape(scaled_test_data, (-1, look_back, features_count))\n",
    "        # convert 3D to 2D\n",
    "        scaled_train_data_model = scaled_train_data_model.reshape(scaled_train_data_model.shape[0], (scaled_train_data_model.shape[1]*scaled_train_data_model.shape[2]))\n",
    "        scaled_test_data_model = scaled_test_data_model.reshape(scaled_test_data_model.shape[0], (scaled_test_data_model.shape[1]*scaled_test_data_model.shape[2]))\n",
    "\n",
    "        a = 'lgb_matrix'\n",
    "        b = 'xgb_matrix'\n",
    "        c = 'rf_matrix'\n",
    "        d = 'knn_matrix'\n",
    "        a, b, c, d = fit_model(scaled_train_data_model, y_train, scaled_test_data_model, y_test)\n",
    "\n",
    "        result_lst.append([a, b, c, d])\n",
    "        \n",
    "    else: \n",
    "        x_train, x_test, y_train, y_test = train_test_split(X, y, test_size=0.2, random_state=42, shuffle=False)\n",
    "        a = 'lgb_matrix'\n",
    "        b = 'xgb_matrix'\n",
    "        c = 'rf_matrix'\n",
    "        d = 'knn_matrix'\n",
    "        \n",
    "        mms = MinMaxScaler()\n",
    "        x_train_norm = mms.fit_transform(x_train)\n",
    "        x_test_norm = mms.transform(x_test)\n",
    "\n",
    "        a, b, c, d = fit_model(x_train_norm, y_train, x_test_norm, y_test)\n",
    "\n",
    "        result_lst.append([a, b, c, d])\n",
    "\n",
    "    return result_show(result_lst)"
   ]
  },
  {
   "cell_type": "markdown",
   "id": "fa534392-cfa1-49aa-94b4-23b757eee066",
   "metadata": {},
   "source": [
    "# 1 Data Preprocessing "
   ]
  },
  {
   "cell_type": "code",
   "execution_count": null,
   "id": "7211b1fe-b92c-401e-91f1-4ac37238671d",
   "metadata": {},
   "outputs": [],
   "source": [
    "df = pd.read_csv('./data.csv', index_col=0)\n",
    "df = df[df['timestamp'] >= '2016-01-01 00:00:00+00:00']\n",
    "df.set_index('timestamp', inplace = True, drop = True)\n",
    "df.index = [datetime.strptime(ts, \"%Y-%m-%d %H:%M:%S%z\").strftime(\"%Y-%m-%d\") for ts in df.index]\n",
    "df"
   ]
  },
  {
   "cell_type": "markdown",
   "id": "7ee30e5b-e427-457f-a3cd-7c368eb4d738",
   "metadata": {},
   "source": [
    "# 2 Explanatory Data Analysis "
   ]
  },
  {
   "cell_type": "code",
   "execution_count": null,
   "id": "25f048ab-e902-4db9-b557-05a0705dd671",
   "metadata": {},
   "outputs": [],
   "source": [
    "df.info()"
   ]
  },
  {
   "cell_type": "code",
   "execution_count": null,
   "id": "1a431e68-00ba-4b84-8959-d3ed8a50fc3c",
   "metadata": {},
   "outputs": [],
   "source": [
    "df.describe()"
   ]
  },
  {
   "cell_type": "code",
   "execution_count": null,
   "id": "4417369f-3bce-4dd8-95e0-17e4d495db14",
   "metadata": {},
   "outputs": [],
   "source": [
    "sns.pairplot(df)"
   ]
  },
  {
   "cell_type": "code",
   "execution_count": null,
   "id": "7f9cb824-51d9-4a4a-8962-5592e0ed88f9",
   "metadata": {},
   "outputs": [],
   "source": [
    "# correlation matrix \n",
    "plt.figure(figsize=(10, 8))\n",
    "sns.heatmap(df.corr(), cmap='coolwarm', annot=True)\n",
    "plt.show()"
   ]
  },
  {
   "cell_type": "code",
   "execution_count": null,
   "id": "1c6f1cf1-0ca3-4632-ada6-68fb71cc710a",
   "metadata": {
    "tags": []
   },
   "outputs": [],
   "source": [
    "# data visualisation \n",
    "df.index = pd.to_datetime(df.index)\n",
    "features = list(df.columns)\n",
    "fig, axs = plt.subplots(nrows=len(features), ncols=1,\n",
    "                        figsize=(10, 4*len(features)))\n",
    "\n",
    "# loop through each feature and chart it\n",
    "for i, feature in enumerate(features):\n",
    "    color = 'tab:blue'\n",
    "    axs[i].set_xlabel('Time')\n",
    "    axs[i].set_ylabel(feature, color=color)\n",
    "    axs[i].plot(df.index, np.log(df[feature]), color=color)\n",
    "    \n",
    "    date_form = mdates.DateFormatter('%Y-%01-%01') # set the date format \n",
    "    axs[i].xaxis.set_major_locator(mdates.YearLocator(month=1, day=1))\n",
    "    axs[i].xaxis.set_major_formatter(mdates.DateFormatter('%Y'))\n",
    "    axs[i].tick_params(axis='y', labelcolor=color)\n",
    "\n",
    "    ax2 = axs[i].twinx()\n",
    "    # plot the bitcoin price \n",
    "    color = 'tab:red'\n",
    "    ax2.set_ylabel('Price', color=color)\n",
    "    ax2.plot(df.index, np.log(df['price_usd_num']), color=color)\n",
    "    \n",
    "    ax2.tick_params(axis='y', labelcolor=color)\n",
    "    ax2.xaxis.set_major_locator(mdates.YearLocator(month=1, day=1))\n",
    "    ax2.xaxis.set_major_formatter(mdates.DateFormatter('%Y-01-01'))\n",
    "    axs[i].set_title(\n",
    "        'Bitcoin {} and Price over Time'.format(feature), fontsize=14)\n",
    "\n",
    "plt.tight_layout()\n",
    "plt.show()"
   ]
  },
  {
   "cell_type": "markdown",
   "id": "081f1e96-e625-42fe-ab65-8858bfa1070a",
   "metadata": {},
   "source": [
    "# 3 Bitcoin Trends and Seasonal Exploration and Super Seasonal Detection\n",
    "## 3.1 Bitcoin Trends and Seasonal Exploration"
   ]
  },
  {
   "cell_type": "code",
   "execution_count": null,
   "id": "987becd8-d452-455c-8e41-9c301261e30e",
   "metadata": {},
   "outputs": [],
   "source": [
    "# Part 1: Visualize Bitcoin trends and seasonality\n",
    "# seasonal breakdown of bitcoin prices\n",
    "btc_decomposed = seasonal_decompose(df['price_usd_num'], model='additive', period=365)\n",
    "\n",
    "fig, axs = plt.subplots(4, 1, figsize=(14,8))\n",
    "\n",
    "axs[0].plot(btc_decomposed.observed, label='Original')\n",
    "axs[0].legend(loc='upper left')\n",
    "axs[0].set_title('Original')\n",
    "\n",
    "# plot trend component\n",
    "axs[1].plot(btc_decomposed.trend, label='Trend')\n",
    "axs[1].legend(loc='upper left')\n",
    "axs[1].set_title('Trend')\n",
    "\n",
    "# plot seasonal component\n",
    "axs[2].plot(btc_decomposed.seasonal,label='Seasonality')\n",
    "axs[2].legend(loc='upper left')\n",
    "axs[2].set_title('Seasonality')\n",
    "\n",
    "# plot residual component\n",
    "axs[3].plot(btc_decomposed.resid, label='Residuals')\n",
    "axs[3].legend(loc='upper left')\n",
    "axs[3].set_title('Residuals')\n",
    "\n",
    "# for each subgraph set the year to the main scale on the x axis\n",
    "for ax in axs:\n",
    "    ax.xaxis.set_major_locator(mdates.YearLocator())\n",
    "    ax.xaxis.set_major_formatter(mdates.DateFormatter('%Y-01-01'))\n",
    "\n",
    "\n",
    "plt.tight_layout()\n",
    "plt.show()"
   ]
  },
  {
   "cell_type": "markdown",
   "id": "4ec2287e-a6db-490d-8363-38868834865e",
   "metadata": {},
   "source": [
    "## 3.2 Bitcoin Super Seasonal Detection"
   ]
  },
  {
   "cell_type": "code",
   "execution_count": null,
   "id": "89a0d35d-8b4e-4434-9974-edb5cf19a7b6",
   "metadata": {},
   "outputs": [],
   "source": [
    "# perform the STL decomposition\n",
    "stl = STL(df['price_usd_num'], period=365)\n",
    "result = stl.fit()\n",
    "\n",
    "# check residual\n",
    "resid = result.resid\n",
    "\n",
    "# STL decomposition is performed again\n",
    "stl_resid = STL(resid, period=365)\n",
    "result_resid = stl_resid.fit()\n",
    "\n",
    "# if the seasonal component of the residual is not close to zero, then there may be superseasonality\n",
    "if not np.allclose(result_resid.seasonal, 0, atol=1e-10):\n",
    "    print(\"可能存在超季节性\")\n",
    "\n",
    "# graphical representation\n",
    "fig, (ax1, ax2) = plt.subplots(2, figsize=(8,6))\n",
    "\n",
    "# draw the original residuals\n",
    "ax1.plot(resid)\n",
    "ax1.set_title('Residuals')\n",
    "\n",
    "# plot the seasonal component of residuals\n",
    "ax2.plot(result_resid.seasonal)\n",
    "ax2.set_title('Seasonality in Residuals')\n",
    "\n",
    "plt.tight_layout()\n",
    "plt.show()"
   ]
  },
  {
   "cell_type": "markdown",
   "id": "3ae745c7-dae0-43a5-875c-08d81fca1835",
   "metadata": {},
   "source": [
    "# 4 Causal analysis and visualization\n",
    "## 4.1 Relational Analysis and Visualization of hash-rate and price "
   ]
  },
  {
   "cell_type": "code",
   "execution_count": null,
   "id": "2c1cbbb3-0acd-4ee1-b827-c4bfc8200b01",
   "metadata": {},
   "outputs": [],
   "source": [
    "selected_hashrate_price_columns = ['mean_hash_rate', 'price_usd_num']\n",
    "hashrate_price_data = df[selected_hashrate_price_columns]\n",
    "\n",
    "correlation = hashrate_price_data.corr()\n",
    "print(\"Bitcoin Hash Rate vs Price Correlation Matrix:\")\n",
    "print(correlation)\n",
    "\n",
    "# conduct Granger Causality Test\n",
    "model_gct_hp = sm.tsa.stattools.grangercausalitytests(hashrate_price_data, maxlag=1)\n",
    "\n",
    "# print the results of the causation test\n",
    "print(\"Granger Causality Test Results:\")\n",
    "for lag in model_gct_hp.keys():\n",
    "    print(\"Lag:\", lag)\n",
    "    print(\"Null Hypothesis (H0):\", model_gct_hp[lag][0]['ssr_chi2test'][0])\n",
    "    print(\"Alternative Hypothesis (H1):\", model_gct_hp[lag][0]['ssr_chi2test'][1])\n",
    "    print(\"p-value:\", model_gct_hp[lag][0]['ssr_chi2test'][1])\n",
    "    print(\"-------------------------------------------\")\n",
    "    \n",
    "plt.scatter(hashrate_price_data['mean_hash_rate'], hashrate_price_data['price_usd_num'])\n",
    "plt.xlabel('Hash Rate')\n",
    "plt.ylabel('Price')\n",
    "plt.title('Bitcoin Hash Rate vs Bitcoin Price')\n",
    "plt.show()"
   ]
  },
  {
   "cell_type": "markdown",
   "id": "c50d89b6-fb69-46f1-b877-d8143fb5e6a7",
   "metadata": {},
   "source": [
    "**Correlation analysis:** The correlation coefficient matrix shows that the correlation coefficient between bitcoin hash rate and price is 0.658008, indicating a moderate positive correlation between them. This means that bitcoin's hash rate and price move in tandem to some extent, but there is not a strong linear relationship.\n",
    "\n",
    "**Causality analysis:** The results of Granger causality test show that at 1 lag order, the P-value of F test and Chi-square test based on ssr are both 1.0000, which does not support the statistically significant causal effect of bitcoin hash rate on price. This means that with a given lag order, it is impossible to conclude that the bitcoin hash rate has a causal effect on the price.\n",
    "\n",
    "**Conclusion:** In summary, according to the analysis results, it can be concluded that there is a certain positive correlation between bitcoin hash rate and price, but it cannot be determined that bitcoin hash rate has a causal effect on price. This means that changes in Bitcoin's hash rate may be related to price fluctuations in some way, but it cannot be relied on alone to predict price changes."
   ]
  },
  {
   "cell_type": "markdown",
   "id": "31ec78df-28b3-4b70-be2c-3f62f3b5b8d6",
   "metadata": {},
   "source": [
    "## 4.2 Relational Analysis and Visualization of Active and Bitcoin price"
   ]
  },
  {
   "cell_type": "code",
   "execution_count": null,
   "id": "ac6a2204-9aef-439c-945d-10e4a339cc2d",
   "metadata": {},
   "outputs": [],
   "source": [
    "selected_active_price_columns = ['active_addr_num', 'price_usd_num']\n",
    "active_price_data = df[selected_active_price_columns]\n",
    "\n",
    "correlation_ap = active_price_data.corr()\n",
    "print(\"active_addr_num vs Price Correlation Matrix:\")\n",
    "print(correlation_ap)\n",
    "\n",
    "model_gct_ap = sm.tsa.stattools.grangercausalitytests(active_price_data, maxlag=1)\n",
    "\n",
    "print(\"Granger Causality Test Results:\")\n",
    "for lag in model_gct_ap.keys():\n",
    "    print(\"Lag:\", lag)\n",
    "    print(\"Null Hypothesis (H0):\", model_gct_ap[lag][0]['ssr_chi2test'][0])\n",
    "    print(\"Alternative Hypothesis (H1):\", model_gct_ap[lag][0]['ssr_chi2test'][1])\n",
    "    print(\"p-value:\", model_gct_ap[lag][0]['ssr_chi2test'][1])\n",
    "    print(\"-------------------------------------------\")\n",
    "    \n",
    "plt.scatter(active_price_data['active_addr_num'], active_price_data['price_usd_num'])\n",
    "plt.xlabel('Active Address')\n",
    "plt.ylabel('Price ')\n",
    "plt.title('Active Address vs Price')\n",
    "plt.show()"
   ]
  },
  {
   "cell_type": "markdown",
   "id": "1ff225d5-a1e9-4b12-a0d6-85b1e7c5090d",
   "metadata": {},
   "source": [
    "**Correlation analysis:** The correlation coefficient matrix shows that the correlation coefficient between the number of active addresses and the price of bitcoin is 0.674372, indicating that there is a moderate positive correlation between them.\n",
    "This means that the number of active addresses and the price of bitcoin change synchronously to some extent, with a certain linear relationship.\n",
    "\n",
    "**Causality analysis:** The results of Granger causality test show that, under 1 lag order, the P-values of F-test and Chi-square test based on ssr are both very small (0.0000).\n",
    "\n",
    "The number of active addresses supporting bitcoin has a statistically significant causal effect on the price. This means that changes in the number of active Bitcoin addresses can have an impact on the price.\n",
    "\n",
    "**Conclusion:** In summary, according to the analysis results, it can be concluded that there is a certain positive correlation between the number of active addresses of bitcoin and the price, and the number of active addresses of bitcoin has a causal effect on the price.\n",
    "More active addresses could mean more user engagement and transaction activity, which could affect the supply, demand and price of bitcoin."
   ]
  },
  {
   "cell_type": "markdown",
   "id": "41130189-abaa-44a9-b02c-7208ab1c6eab",
   "metadata": {},
   "source": [
    "## 4.3 Relational analysis and visualization of Bitcoin-number-of-address-with-balance-10k and Bitcoin price"
   ]
  },
  {
   "cell_type": "code",
   "execution_count": null,
   "id": "013e060c-e2f9-4c16-a532-80b5890ae30c",
   "metadata": {},
   "outputs": [],
   "source": [
    "selected_10k_price_columns = ['addr_with_balance_10k_num', 'price_usd_num']\n",
    "k10_price_data = df[selected_10k_price_columns]\n",
    "\n",
    "correlation_k10p = k10_price_data.corr()\n",
    "print(\"addr_with_balance_10k_num vs Price Correlation Matrix:\")\n",
    "print(correlation_k10p)\n",
    "\n",
    "model_gct_k10p = sm.tsa.stattools.grangercausalitytests(k10_price_data, maxlag=1)\n",
    "\n",
    "print(\"Granger Causality Test Results:\")\n",
    "for lag in model_gct_k10p.keys():\n",
    "    print(\"Lag:\", lag)\n",
    "    print(\"Null Hypothesis (H0):\", model_gct_k10p[lag][0]['ssr_chi2test'][0])\n",
    "    print(\"Alternative Hypothesis (H1):\", model_gct_k10p[lag][0]['ssr_chi2test'][1])\n",
    "    print(\"p-value:\", model_gct_k10p[lag][0]['ssr_chi2test'][1])\n",
    "    print(\"-------------------------------------------\")\n",
    "    \n",
    "plt.scatter(k10_price_data['addr_with_balance_10k_num'], k10_price_data['price_usd_num'])\n",
    "plt.xlabel('balance-10k')\n",
    "plt.ylabel('Price ')\n",
    "plt.title('bitcoin-number-of-addresses-with-balance-10k vs Price')\n",
    "plt.show()"
   ]
  },
  {
   "cell_type": "markdown",
   "id": "02bd1645-1c7d-4225-a678-2802b441f491",
   "metadata": {},
   "source": [
    "**Correlation analysis:** There is a negative correlation between the number of bitcoin address balances above USD 10,000 and the price of bitcoin, with a correlation coefficient of -0.754. This means that as the number of Bitcoin addresses with a balance of $10,000 or more increases, bitcoin prices tend to fall.\n",
    "\n",
    "**Causality analysis:** This means that the number of Bitcoin addresses with a balance above $10,000 can influence the price of bitcoin to some extent.\n",
    "The p value was 0.0045, which was less than the significance level (usually 0.05), indicating that the results were statistically significant.\n",
    "\n",
    "**Conclusion:** The number of addresses with a balance of more than $10,000 can predict the price of bitcoin to a certain extent, and affect the price changes of Bitcoin to a certain extent."
   ]
  },
  {
   "cell_type": "markdown",
   "id": "80aba7bf-f29c-41ec-b8ef-bab062432c6c",
   "metadata": {},
   "source": [
    "## 4.4 Relational analysis and visualization of bitcoin price and ethereum-price\n",
    "### Visualization of bitcoin price and ethereum-price"
   ]
  },
  {
   "cell_type": "code",
   "execution_count": null,
   "id": "f4b2cb9a-9418-4a66-a4f1-9f8440bf9b34",
   "metadata": {},
   "outputs": [],
   "source": [
    "fig = plt.figure(figsize=(15, 6))\n",
    "plt.plot(df.index, df['price_usd_num'], label='Bitcoin Price')\n",
    "plt.plot(df.index, df['ethereum_price_usd_num'], label='Ethereum Price')\n",
    "plt.xlabel('Timestamp')\n",
    "plt.ylabel('Price')\n",
    "plt.legend()  \n",
    "plt.title('Bitcoin and Ethereum Price Trend')\n",
    "plt.xticks(rotation=45)\n",
    "plt.gca().xaxis.set_major_locator(ticker.MultipleLocator(120))   \n",
    "plt.show()"
   ]
  },
  {
   "cell_type": "code",
   "execution_count": null,
   "id": "c001da7d-f754-4737-9b81-de8304931c62",
   "metadata": {},
   "outputs": [],
   "source": [
    "selected_price_columns = ['price_usd_num', 'ethereum_price_usd_num']\n",
    "correlation_data = df[selected_price_columns]\n",
    "\n",
    "correlation = correlation_data.corr()\n",
    "print(\"Correlation Matrix:\")\n",
    "print(correlation)\n",
    "\n",
    "model_gct = sm.tsa.stattools.grangercausalitytests(correlation_data, maxlag=1)\n",
    "\n",
    "print(\"Granger Causality Test Results:\")\n",
    "for lag in model_gct.keys():\n",
    "    print(\"Lag:\", lag)\n",
    "    print(\"Null Hypothesis (H0):\", model_gct[lag][0]['ssr_chi2test'][0])\n",
    "    print(\"Alternative Hypothesis (H1):\", model_gct[lag][0]['ssr_chi2test'][1])\n",
    "    print(\"p-value:\", model_gct[lag][0]['ssr_chi2test'][1])\n",
    "    print(\"-------------------------------------------\")"
   ]
  },
  {
   "cell_type": "code",
   "execution_count": null,
   "id": "9d40519a-68c6-4ec9-8dbd-1ce20aabb076",
   "metadata": {},
   "outputs": [],
   "source": [
    "'''Using Ethereum price as independent variable and bitcoin price as dependent variable, the co-integration between prices is calculated. \n",
    "Cointegration analysis can help to determine whether two time series have a long-term stable relationship.'''\n",
    "model_ols = sm.OLS(correlation_data['price_usd_num'], sm.add_constant(correlation_data['ethereum_price_usd_num'])).fit()\n",
    "residuals = model_ols.resid\n",
    "\n",
    "plt.plot(df['ethereum_price_usd_num'], residuals, 'o')\n",
    "plt.axhline(0, color='r', linestyle='--')\n",
    "plt.xlabel('Ethereum Price (USD)')\n",
    "plt.ylabel('Residuals')\n",
    "plt.title('Residuals Plot')\n",
    "plt.show()\n",
    "\n",
    "print(\"Cointegration Analysis:\")\n",
    "print(model_ols.summary())"
   ]
  },
  {
   "cell_type": "markdown",
   "id": "454a96f3-7015-49e5-ac05-d7ae5c0a1b30",
   "metadata": {},
   "source": [
    "**Correlation analysis:** Correlation coefficient matrix shows that the correlation coefficient between bitcoin price and Ethereum price is 0.937912, indicating that there is a highly positive correlation between them.\n",
    "This means that there is a strong linear relationship between bitcoin prices and Ethereum prices, which move in very similar trends.\n",
    "\n",
    "**Causality analysis:** The results of Granger causality test show that, under 1 lag order, the P-values of F-test and Chi-square test based on ssr are very small (both 0.0000).\n",
    "Supporting Ethereum prices has a statistically significant causal effect on bitcoin prices. This means that changes in the price of Ethereum can have an impact on the price of bitcoin.\n",
    "\n",
    "**Co-integration analysis:** The results of co-integration analysis show that the R-squared value obtained by OLS regression model is 0.880, indicating that there is a strong co-integration relationship between bitcoin price and Ethereum price.\n",
    "The significance test results of regression coefficient show that the coefficient of Ethereum price is 13.9142, which is statistically significant. This means that Ethereum prices have some predictive power over changes in bitcoin prices.\n",
    "\n",
    "It is concluded that there is a highly positive correlation between the price of bitcoin and the price of Ethereum, and the price of ethereum has a causal effect on the price of bitcoin. This means that fluctuations and price changes in the Ethereum market may have an impact on the Bitcoin market, and there is a certain degree of linkage between the two.\n",
    "\n",
    "**Conclusion:** Therefore, when analyzing and predicting the price of bitcoin, it is necessary to consider the price of Ethereum as an important factor, and it may provide certain prediction indicators for the price of bitcoin."
   ]
  },
  {
   "cell_type": "markdown",
   "id": "7ee6941b-8089-4e16-9c2c-7d7a93dd1255",
   "metadata": {},
   "source": [
    "# 5 Prediction Model Construction"
   ]
  },
  {
   "cell_type": "code",
   "execution_count": null,
   "id": "09d67283-5b98-45c8-b006-4204688847eb",
   "metadata": {
    "tags": []
   },
   "outputs": [],
   "source": [
    "# case 1: all features \n",
    "all_cols = list(df.columns)\n",
    "nolookback_df = bitcoin_models(all_cols, df, 'no')"
   ]
  },
  {
   "cell_type": "code",
   "execution_count": null,
   "id": "922a10a9-a6b4-476d-aaea-da47a28b8fb3",
   "metadata": {},
   "outputs": [],
   "source": [
    "lookback_df = bitcoin_models(all_cols, df, 'lookback')\n",
    "lookback_df"
   ]
  },
  {
   "cell_type": "code",
   "execution_count": null,
   "id": "deda301f-ae4e-4214-8d8d-9027109fd46e",
   "metadata": {},
   "outputs": [],
   "source": [
    "list(df.columns)"
   ]
  },
  {
   "cell_type": "code",
   "execution_count": null,
   "id": "99a1e876-a1dd-430c-aed4-187ecb91a725",
   "metadata": {},
   "outputs": [],
   "source": []
  }
 ],
 "metadata": {
  "kernelspec": {
   "display_name": "Python 3 (ipykernel)",
   "language": "python",
   "name": "python3"
  },
  "language_info": {
   "codemirror_mode": {
    "name": "ipython",
    "version": 3
   },
   "file_extension": ".py",
   "mimetype": "text/x-python",
   "name": "python",
   "nbconvert_exporter": "python",
   "pygments_lexer": "ipython3",
   "version": "3.10.9"
  }
 },
 "nbformat": 4,
 "nbformat_minor": 5
}
